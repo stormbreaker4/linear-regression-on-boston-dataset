{
 "cells": [
  {
   "cell_type": "code",
   "execution_count": 1,
   "id": "ca74c060",
   "metadata": {},
   "outputs": [],
   "source": [
    "import numpy as np\n",
    "import matplotlib.pyplot as plt\n",
    "import pandas as pd\n",
    "from sklearn.datasets import load_boston"
   ]
  },
  {
   "cell_type": "code",
   "execution_count": 2,
   "id": "be2a3089",
   "metadata": {},
   "outputs": [
    {
     "name": "stderr",
     "output_type": "stream",
     "text": [
      "c:\\users\\aman bhardwaj\\appdata\\local\\programs\\python\\python38\\lib\\site-packages\\sklearn\\utils\\deprecation.py:87: FutureWarning: Function load_boston is deprecated; `load_boston` is deprecated in 1.0 and will be removed in 1.2.\n",
      "\n",
      "    The Boston housing prices dataset has an ethical problem. You can refer to\n",
      "    the documentation of this function for further details.\n",
      "\n",
      "    The scikit-learn maintainers therefore strongly discourage the use of this\n",
      "    dataset unless the purpose of the code is to study and educate about\n",
      "    ethical issues in data science and machine learning.\n",
      "\n",
      "    In this special case, you can fetch the dataset from the original\n",
      "    source::\n",
      "\n",
      "        import pandas as pd\n",
      "        import numpy as np\n",
      "\n",
      "\n",
      "        data_url = \"http://lib.stat.cmu.edu/datasets/boston\"\n",
      "        raw_df = pd.read_csv(data_url, sep=\"\\s+\", skiprows=22, header=None)\n",
      "        data = np.hstack([raw_df.values[::2, :], raw_df.values[1::2, :2]])\n",
      "        target = raw_df.values[1::2, 2]\n",
      "\n",
      "    Alternative datasets include the California housing dataset (i.e.\n",
      "    :func:`~sklearn.datasets.fetch_california_housing`) and the Ames housing\n",
      "    dataset. You can load the datasets as follows::\n",
      "\n",
      "        from sklearn.datasets import fetch_california_housing\n",
      "        housing = fetch_california_housing()\n",
      "\n",
      "    for the California housing dataset and::\n",
      "\n",
      "        from sklearn.datasets import fetch_openml\n",
      "        housing = fetch_openml(name=\"house_prices\", as_frame=True)\n",
      "\n",
      "    for the Ames housing dataset.\n",
      "    \n",
      "  warnings.warn(msg, category=FutureWarning)\n"
     ]
    }
   ],
   "source": [
    "raw_boston = load_boston()"
   ]
  },
  {
   "cell_type": "code",
   "execution_count": 3,
   "id": "07037b83",
   "metadata": {},
   "outputs": [
    {
     "name": "stdout",
     "output_type": "stream",
     "text": [
      "{'data': array([[6.3200e-03, 1.8000e+01, 2.3100e+00, ..., 1.5300e+01, 3.9690e+02,\n",
      "        4.9800e+00],\n",
      "       [2.7310e-02, 0.0000e+00, 7.0700e+00, ..., 1.7800e+01, 3.9690e+02,\n",
      "        9.1400e+00],\n",
      "       [2.7290e-02, 0.0000e+00, 7.0700e+00, ..., 1.7800e+01, 3.9283e+02,\n",
      "        4.0300e+00],\n",
      "       ...,\n",
      "       [6.0760e-02, 0.0000e+00, 1.1930e+01, ..., 2.1000e+01, 3.9690e+02,\n",
      "        5.6400e+00],\n",
      "       [1.0959e-01, 0.0000e+00, 1.1930e+01, ..., 2.1000e+01, 3.9345e+02,\n",
      "        6.4800e+00],\n",
      "       [4.7410e-02, 0.0000e+00, 1.1930e+01, ..., 2.1000e+01, 3.9690e+02,\n",
      "        7.8800e+00]]), 'target': array([24. , 21.6, 34.7, 33.4, 36.2, 28.7, 22.9, 27.1, 16.5, 18.9, 15. ,\n",
      "       18.9, 21.7, 20.4, 18.2, 19.9, 23.1, 17.5, 20.2, 18.2, 13.6, 19.6,\n",
      "       15.2, 14.5, 15.6, 13.9, 16.6, 14.8, 18.4, 21. , 12.7, 14.5, 13.2,\n",
      "       13.1, 13.5, 18.9, 20. , 21. , 24.7, 30.8, 34.9, 26.6, 25.3, 24.7,\n",
      "       21.2, 19.3, 20. , 16.6, 14.4, 19.4, 19.7, 20.5, 25. , 23.4, 18.9,\n",
      "       35.4, 24.7, 31.6, 23.3, 19.6, 18.7, 16. , 22.2, 25. , 33. , 23.5,\n",
      "       19.4, 22. , 17.4, 20.9, 24.2, 21.7, 22.8, 23.4, 24.1, 21.4, 20. ,\n",
      "       20.8, 21.2, 20.3, 28. , 23.9, 24.8, 22.9, 23.9, 26.6, 22.5, 22.2,\n",
      "       23.6, 28.7, 22.6, 22. , 22.9, 25. , 20.6, 28.4, 21.4, 38.7, 43.8,\n",
      "       33.2, 27.5, 26.5, 18.6, 19.3, 20.1, 19.5, 19.5, 20.4, 19.8, 19.4,\n",
      "       21.7, 22.8, 18.8, 18.7, 18.5, 18.3, 21.2, 19.2, 20.4, 19.3, 22. ,\n",
      "       20.3, 20.5, 17.3, 18.8, 21.4, 15.7, 16.2, 18. , 14.3, 19.2, 19.6,\n",
      "       23. , 18.4, 15.6, 18.1, 17.4, 17.1, 13.3, 17.8, 14. , 14.4, 13.4,\n",
      "       15.6, 11.8, 13.8, 15.6, 14.6, 17.8, 15.4, 21.5, 19.6, 15.3, 19.4,\n",
      "       17. , 15.6, 13.1, 41.3, 24.3, 23.3, 27. , 50. , 50. , 50. , 22.7,\n",
      "       25. , 50. , 23.8, 23.8, 22.3, 17.4, 19.1, 23.1, 23.6, 22.6, 29.4,\n",
      "       23.2, 24.6, 29.9, 37.2, 39.8, 36.2, 37.9, 32.5, 26.4, 29.6, 50. ,\n",
      "       32. , 29.8, 34.9, 37. , 30.5, 36.4, 31.1, 29.1, 50. , 33.3, 30.3,\n",
      "       34.6, 34.9, 32.9, 24.1, 42.3, 48.5, 50. , 22.6, 24.4, 22.5, 24.4,\n",
      "       20. , 21.7, 19.3, 22.4, 28.1, 23.7, 25. , 23.3, 28.7, 21.5, 23. ,\n",
      "       26.7, 21.7, 27.5, 30.1, 44.8, 50. , 37.6, 31.6, 46.7, 31.5, 24.3,\n",
      "       31.7, 41.7, 48.3, 29. , 24. , 25.1, 31.5, 23.7, 23.3, 22. , 20.1,\n",
      "       22.2, 23.7, 17.6, 18.5, 24.3, 20.5, 24.5, 26.2, 24.4, 24.8, 29.6,\n",
      "       42.8, 21.9, 20.9, 44. , 50. , 36. , 30.1, 33.8, 43.1, 48.8, 31. ,\n",
      "       36.5, 22.8, 30.7, 50. , 43.5, 20.7, 21.1, 25.2, 24.4, 35.2, 32.4,\n",
      "       32. , 33.2, 33.1, 29.1, 35.1, 45.4, 35.4, 46. , 50. , 32.2, 22. ,\n",
      "       20.1, 23.2, 22.3, 24.8, 28.5, 37.3, 27.9, 23.9, 21.7, 28.6, 27.1,\n",
      "       20.3, 22.5, 29. , 24.8, 22. , 26.4, 33.1, 36.1, 28.4, 33.4, 28.2,\n",
      "       22.8, 20.3, 16.1, 22.1, 19.4, 21.6, 23.8, 16.2, 17.8, 19.8, 23.1,\n",
      "       21. , 23.8, 23.1, 20.4, 18.5, 25. , 24.6, 23. , 22.2, 19.3, 22.6,\n",
      "       19.8, 17.1, 19.4, 22.2, 20.7, 21.1, 19.5, 18.5, 20.6, 19. , 18.7,\n",
      "       32.7, 16.5, 23.9, 31.2, 17.5, 17.2, 23.1, 24.5, 26.6, 22.9, 24.1,\n",
      "       18.6, 30.1, 18.2, 20.6, 17.8, 21.7, 22.7, 22.6, 25. , 19.9, 20.8,\n",
      "       16.8, 21.9, 27.5, 21.9, 23.1, 50. , 50. , 50. , 50. , 50. , 13.8,\n",
      "       13.8, 15. , 13.9, 13.3, 13.1, 10.2, 10.4, 10.9, 11.3, 12.3,  8.8,\n",
      "        7.2, 10.5,  7.4, 10.2, 11.5, 15.1, 23.2,  9.7, 13.8, 12.7, 13.1,\n",
      "       12.5,  8.5,  5. ,  6.3,  5.6,  7.2, 12.1,  8.3,  8.5,  5. , 11.9,\n",
      "       27.9, 17.2, 27.5, 15. , 17.2, 17.9, 16.3,  7. ,  7.2,  7.5, 10.4,\n",
      "        8.8,  8.4, 16.7, 14.2, 20.8, 13.4, 11.7,  8.3, 10.2, 10.9, 11. ,\n",
      "        9.5, 14.5, 14.1, 16.1, 14.3, 11.7, 13.4,  9.6,  8.7,  8.4, 12.8,\n",
      "       10.5, 17.1, 18.4, 15.4, 10.8, 11.8, 14.9, 12.6, 14.1, 13. , 13.4,\n",
      "       15.2, 16.1, 17.8, 14.9, 14.1, 12.7, 13.5, 14.9, 20. , 16.4, 17.7,\n",
      "       19.5, 20.2, 21.4, 19.9, 19. , 19.1, 19.1, 20.1, 19.9, 19.6, 23.2,\n",
      "       29.8, 13.8, 13.3, 16.7, 12. , 14.6, 21.4, 23. , 23.7, 25. , 21.8,\n",
      "       20.6, 21.2, 19.1, 20.6, 15.2,  7. ,  8.1, 13.6, 20.1, 21.8, 24.5,\n",
      "       23.1, 19.7, 18.3, 21.2, 17.5, 16.8, 22.4, 20.6, 23.9, 22. , 11.9]), 'feature_names': array(['CRIM', 'ZN', 'INDUS', 'CHAS', 'NOX', 'RM', 'AGE', 'DIS', 'RAD',\n",
      "       'TAX', 'PTRATIO', 'B', 'LSTAT'], dtype='<U7'), 'DESCR': \".. _boston_dataset:\\n\\nBoston house prices dataset\\n---------------------------\\n\\n**Data Set Characteristics:**  \\n\\n    :Number of Instances: 506 \\n\\n    :Number of Attributes: 13 numeric/categorical predictive. Median Value (attribute 14) is usually the target.\\n\\n    :Attribute Information (in order):\\n        - CRIM     per capita crime rate by town\\n        - ZN       proportion of residential land zoned for lots over 25,000 sq.ft.\\n        - INDUS    proportion of non-retail business acres per town\\n        - CHAS     Charles River dummy variable (= 1 if tract bounds river; 0 otherwise)\\n        - NOX      nitric oxides concentration (parts per 10 million)\\n        - RM       average number of rooms per dwelling\\n        - AGE      proportion of owner-occupied units built prior to 1940\\n        - DIS      weighted distances to five Boston employment centres\\n        - RAD      index of accessibility to radial highways\\n        - TAX      full-value property-tax rate per $10,000\\n        - PTRATIO  pupil-teacher ratio by town\\n        - B        1000(Bk - 0.63)^2 where Bk is the proportion of black people by town\\n        - LSTAT    % lower status of the population\\n        - MEDV     Median value of owner-occupied homes in $1000's\\n\\n    :Missing Attribute Values: None\\n\\n    :Creator: Harrison, D. and Rubinfeld, D.L.\\n\\nThis is a copy of UCI ML housing dataset.\\nhttps://archive.ics.uci.edu/ml/machine-learning-databases/housing/\\n\\n\\nThis dataset was taken from the StatLib library which is maintained at Carnegie Mellon University.\\n\\nThe Boston house-price data of Harrison, D. and Rubinfeld, D.L. 'Hedonic\\nprices and the demand for clean air', J. Environ. Economics & Management,\\nvol.5, 81-102, 1978.   Used in Belsley, Kuh & Welsch, 'Regression diagnostics\\n...', Wiley, 1980.   N.B. Various transformations are used in the table on\\npages 244-261 of the latter.\\n\\nThe Boston house-price data has been used in many machine learning papers that address regression\\nproblems.   \\n     \\n.. topic:: References\\n\\n   - Belsley, Kuh & Welsch, 'Regression diagnostics: Identifying Influential Data and Sources of Collinearity', Wiley, 1980. 244-261.\\n   - Quinlan,R. (1993). Combining Instance-Based and Model-Based Learning. In Proceedings on the Tenth International Conference of Machine Learning, 236-243, University of Massachusetts, Amherst. Morgan Kaufmann.\\n\", 'filename': 'boston_house_prices.csv', 'data_module': 'sklearn.datasets.data'}\n"
     ]
    }
   ],
   "source": [
    "print(raw_boston)"
   ]
  },
  {
   "cell_type": "code",
   "execution_count": 4,
   "id": "5d2147c7",
   "metadata": {},
   "outputs": [
    {
     "name": "stdout",
     "output_type": "stream",
     "text": [
      "['CRIM' 'ZN' 'INDUS' 'CHAS' 'NOX' 'RM' 'AGE' 'DIS' 'RAD' 'TAX' 'PTRATIO'\n",
      " 'B' 'LSTAT']\n"
     ]
    }
   ],
   "source": [
    "print(raw_boston.feature_names)"
   ]
  },
  {
   "cell_type": "code",
   "execution_count": 5,
   "id": "636ddf73",
   "metadata": {},
   "outputs": [
    {
     "name": "stdout",
     "output_type": "stream",
     "text": [
      ".. _boston_dataset:\n",
      "\n",
      "Boston house prices dataset\n",
      "---------------------------\n",
      "\n",
      "**Data Set Characteristics:**  \n",
      "\n",
      "    :Number of Instances: 506 \n",
      "\n",
      "    :Number of Attributes: 13 numeric/categorical predictive. Median Value (attribute 14) is usually the target.\n",
      "\n",
      "    :Attribute Information (in order):\n",
      "        - CRIM     per capita crime rate by town\n",
      "        - ZN       proportion of residential land zoned for lots over 25,000 sq.ft.\n",
      "        - INDUS    proportion of non-retail business acres per town\n",
      "        - CHAS     Charles River dummy variable (= 1 if tract bounds river; 0 otherwise)\n",
      "        - NOX      nitric oxides concentration (parts per 10 million)\n",
      "        - RM       average number of rooms per dwelling\n",
      "        - AGE      proportion of owner-occupied units built prior to 1940\n",
      "        - DIS      weighted distances to five Boston employment centres\n",
      "        - RAD      index of accessibility to radial highways\n",
      "        - TAX      full-value property-tax rate per $10,000\n",
      "        - PTRATIO  pupil-teacher ratio by town\n",
      "        - B        1000(Bk - 0.63)^2 where Bk is the proportion of black people by town\n",
      "        - LSTAT    % lower status of the population\n",
      "        - MEDV     Median value of owner-occupied homes in $1000's\n",
      "\n",
      "    :Missing Attribute Values: None\n",
      "\n",
      "    :Creator: Harrison, D. and Rubinfeld, D.L.\n",
      "\n",
      "This is a copy of UCI ML housing dataset.\n",
      "https://archive.ics.uci.edu/ml/machine-learning-databases/housing/\n",
      "\n",
      "\n",
      "This dataset was taken from the StatLib library which is maintained at Carnegie Mellon University.\n",
      "\n",
      "The Boston house-price data of Harrison, D. and Rubinfeld, D.L. 'Hedonic\n",
      "prices and the demand for clean air', J. Environ. Economics & Management,\n",
      "vol.5, 81-102, 1978.   Used in Belsley, Kuh & Welsch, 'Regression diagnostics\n",
      "...', Wiley, 1980.   N.B. Various transformations are used in the table on\n",
      "pages 244-261 of the latter.\n",
      "\n",
      "The Boston house-price data has been used in many machine learning papers that address regression\n",
      "problems.   \n",
      "     \n",
      ".. topic:: References\n",
      "\n",
      "   - Belsley, Kuh & Welsch, 'Regression diagnostics: Identifying Influential Data and Sources of Collinearity', Wiley, 1980. 244-261.\n",
      "   - Quinlan,R. (1993). Combining Instance-Based and Model-Based Learning. In Proceedings on the Tenth International Conference of Machine Learning, 236-243, University of Massachusetts, Amherst. Morgan Kaufmann.\n",
      "\n"
     ]
    }
   ],
   "source": [
    "print(raw_boston.DESCR)"
   ]
  },
  {
   "cell_type": "code",
   "execution_count": 6,
   "id": "9bcf9caf",
   "metadata": {},
   "outputs": [],
   "source": [
    "boston = pd.DataFrame(raw_boston.data, columns=raw_boston.feature_names)\n",
    "dataset = pd.DataFrame(np.c_[boston['CHAS'], boston['CRIM'], boston['LSTAT'], \n",
    "                             boston['RM']], columns = ['CHAS', 'CRIM', 'LSTAT','RM'])\n",
    "X = dataset[:-100]\n",
    "Y = raw_boston.target[:-100]\n",
    "Xtest = dataset[-100:]\n",
    "Ytest = raw_boston.target[-100:]\n",
    "     "
   ]
  },
  {
   "cell_type": "code",
   "execution_count": 7,
   "id": "474f2a40",
   "metadata": {},
   "outputs": [
    {
     "name": "stdout",
     "output_type": "stream",
     "text": [
      "(406, 4) (406,) (100, 4) (100,)\n"
     ]
    }
   ],
   "source": [
    "print(X.shape, Y.shape, Xtest.shape, Ytest.shape)"
   ]
  },
  {
   "cell_type": "code",
   "execution_count": 8,
   "id": "0f2c5d66",
   "metadata": {},
   "outputs": [
    {
     "name": "stdout",
     "output_type": "stream",
     "text": [
      "(4,) (4,)\n"
     ]
    }
   ],
   "source": [
    "u = np.mean(dataset, axis = 0)\n",
    "std = np.std(dataset, axis = 0)\n",
    "print(u.shape, std.shape)"
   ]
  },
  {
   "cell_type": "code",
   "execution_count": 9,
   "id": "3d56c92d",
   "metadata": {},
   "outputs": [],
   "source": [
    "X = (X-u)/std\n",
    "Xtest = (Xtest-u)/std\n",
    "X = np.array(X)\n",
    "Xtest = np.array(Xtest)"
   ]
  },
  {
   "cell_type": "code",
   "execution_count": 10,
   "id": "37680d00",
   "metadata": {},
   "outputs": [
    {
     "data": {
      "text/html": [
       "<div>\n",
       "<style scoped>\n",
       "    .dataframe tbody tr th:only-of-type {\n",
       "        vertical-align: middle;\n",
       "    }\n",
       "\n",
       "    .dataframe tbody tr th {\n",
       "        vertical-align: top;\n",
       "    }\n",
       "\n",
       "    .dataframe thead th {\n",
       "        text-align: right;\n",
       "    }\n",
       "</style>\n",
       "<table border=\"1\" class=\"dataframe\">\n",
       "  <thead>\n",
       "    <tr style=\"text-align: right;\">\n",
       "      <th></th>\n",
       "      <th>0</th>\n",
       "      <th>1</th>\n",
       "      <th>2</th>\n",
       "      <th>3</th>\n",
       "    </tr>\n",
       "  </thead>\n",
       "  <tbody>\n",
       "    <tr>\n",
       "      <th>0</th>\n",
       "      <td>-0.272599</td>\n",
       "      <td>-0.419782</td>\n",
       "      <td>-1.075562</td>\n",
       "      <td>0.413672</td>\n",
       "    </tr>\n",
       "    <tr>\n",
       "      <th>1</th>\n",
       "      <td>-0.272599</td>\n",
       "      <td>-0.417339</td>\n",
       "      <td>-0.492439</td>\n",
       "      <td>0.194274</td>\n",
       "    </tr>\n",
       "    <tr>\n",
       "      <th>2</th>\n",
       "      <td>-0.272599</td>\n",
       "      <td>-0.417342</td>\n",
       "      <td>-1.208727</td>\n",
       "      <td>1.282714</td>\n",
       "    </tr>\n",
       "    <tr>\n",
       "      <th>3</th>\n",
       "      <td>-0.272599</td>\n",
       "      <td>-0.416750</td>\n",
       "      <td>-1.361517</td>\n",
       "      <td>1.016303</td>\n",
       "    </tr>\n",
       "    <tr>\n",
       "      <th>4</th>\n",
       "      <td>-0.272599</td>\n",
       "      <td>-0.412482</td>\n",
       "      <td>-1.026501</td>\n",
       "      <td>1.228577</td>\n",
       "    </tr>\n",
       "  </tbody>\n",
       "</table>\n",
       "</div>"
      ],
      "text/plain": [
       "          0         1         2         3\n",
       "0 -0.272599 -0.419782 -1.075562  0.413672\n",
       "1 -0.272599 -0.417339 -0.492439  0.194274\n",
       "2 -0.272599 -0.417342 -1.208727  1.282714\n",
       "3 -0.272599 -0.416750 -1.361517  1.016303\n",
       "4 -0.272599 -0.412482 -1.026501  1.228577"
      ]
     },
     "execution_count": 10,
     "metadata": {},
     "output_type": "execute_result"
    }
   ],
   "source": [
    "pd.DataFrame(X).head()"
   ]
  },
  {
   "cell_type": "code",
   "execution_count": 11,
   "id": "4e14f936",
   "metadata": {},
   "outputs": [
    {
     "name": "stderr",
     "output_type": "stream",
     "text": [
      "C:\\Users\\aman bhardwaj\\AppData\\Local\\Temp\\ipykernel_22204\\3004355183.py:1: MatplotlibDeprecationWarning: The seaborn styles shipped by Matplotlib are deprecated since 3.6, as they no longer correspond to the styles shipped by seaborn. However, they will remain available as 'seaborn-v0_8-<style>'. Alternatively, directly use the seaborn API instead.\n",
      "  plt.style.use('seaborn')\n"
     ]
    },
    {
     "data": {
      "image/png": "[encoded data removed]",
      "text/plain": [
       "<Figure size 800x550 with 1 Axes>"
      ]
     },
     "metadata": {},
     "output_type": "display_data"
    }
   ],
   "source": [
    "plt.style.use('seaborn')\n",
    "plt.scatter(X[:, 1], Y)\n",
    "plt.show()\n",
    "     "
   ]
  },
  {
   "cell_type": "code",
   "execution_count": 12,
   "id": "e05ef3a2",
   "metadata": {},
   "outputs": [
    {
     "name": "stdout",
     "output_type": "stream",
     "text": [
      "[[ 1.         -0.27259857 -0.41978194 -1.0755623   0.41367189]\n",
      " [ 1.         -0.27259857 -0.41733926 -0.49243937  0.19427445]\n",
      " [ 1.         -0.27259857 -0.41734159 -1.2087274   1.28271368]\n",
      " [ 1.         -0.27259857 -0.41675042 -1.36151682  1.01630251]]\n"
     ]
    }
   ],
   "source": [
    "ones = np.ones((X.shape[0], 1))\n",
    "X = np.hstack((ones, X))\n",
    "print(X[:4, :])"
   ]
  },
  {
   "cell_type": "code",
   "execution_count": 13,
   "id": "9cc705bb",
   "metadata": {},
   "outputs": [],
   "source": [
    "def hypothesis(x, theta):\n",
    "  y_ = 0\n",
    "  n = x.shape[0]\n",
    "\n",
    "  for i in range(n):\n",
    "    y_ += theta[i]*x[i]\n",
    "\n",
    "  return y_"
   ]
  },
  {
   "cell_type": "code",
   "execution_count": 14,
   "id": "76e81bcf",
   "metadata": {},
   "outputs": [],
   "source": [
    "def cost(X, Y, theta):\n",
    "  m = X.shape[0]\n",
    "  total_error = 0\n",
    "\n",
    "  for i in range(m):\n",
    "    y_p = hypothesis(X[i], theta)\n",
    "\n",
    "    total_error += (y_p - Y[i])**2\n",
    "\n",
    "  return total_error/m"
   ]
  },
  {
   "cell_type": "code",
   "execution_count": 15,
   "id": "ef9a586b",
   "metadata": {},
   "outputs": [],
   "source": [
    "def gradient(X, Y, theta):\n",
    "  m, n = X.shape\n",
    "\n",
    "  grad = np.zeros((n,))\n",
    "\n",
    "  for j in range(n):\n",
    "    for i in range(m):\n",
    "\n",
    "      x = X[i]\n",
    "\n",
    "      y_p = hypothesis(x, theta)\n",
    "\n",
    "      y_t = Y[i]\n",
    "\n",
    "      grad[j] += (y_p - y_t)*x[j]\n",
    "    \n",
    "  return grad/m"
   ]
  },
  {
   "cell_type": "code",
   "execution_count": 16,
   "id": "c5102132",
   "metadata": {},
   "outputs": [],
   "source": [
    "def gradient_descent(X, Y, learning_rate = 0.001, max_steps = 3000):\n",
    "\n",
    "  m, n = X.shape\n",
    "  theta = np.zeros((n, ))\n",
    "  cost_epoch = []\n",
    "\n",
    "  for i in range(max_steps):\n",
    "\n",
    "    grad = gradient(X, Y, theta)\n",
    "\n",
    "    e = cost(X, Y, theta)\n",
    "    cost_epoch.append(e)\n",
    "\n",
    "    for j in range(n):\n",
    "\n",
    "      theta[j] = theta[j] - learning_rate*grad[j]\n",
    "\n",
    "  return theta, cost_epoch"
   ]
  },
  {
   "cell_type": "code",
   "execution_count": 17,
   "id": "f35676ea",
   "metadata": {},
   "outputs": [],
   "source": [
    "theta, cost_epoch = gradient_descent(X, Y, learning_rate=0.1, max_steps = 200)"
   ]
  },
  {
   "cell_type": "code",
   "execution_count": 18,
   "id": "1517b213",
   "metadata": {},
   "outputs": [
    {
     "data": {
      "text/plain": [
       "array([23.001524  ,  0.84420801, -0.87303319, -3.50895435,  4.38691061])"
      ]
     },
     "execution_count": 18,
     "metadata": {},
     "output_type": "execute_result"
    }
   ],
   "source": [
    "\n",
    "theta"
   ]
  },
  {
   "cell_type": "code",
   "execution_count": 19,
   "id": "b0d8c946",
   "metadata": {},
   "outputs": [
    {
     "data": {
      "text/plain": [
       "[28.944784143497955,\n",
       " 28.944783834207353,\n",
       " 28.944783542594976,\n",
       " 28.944783267649996,\n",
       " 28.944783008419293,\n",
       " 28.944782764004337,\n",
       " 28.944782533558072,\n",
       " 28.94478231628188,\n",
       " 28.944782111422835,\n",
       " 28.94478191827106]"
      ]
     },
     "execution_count": 19,
     "metadata": {},
     "output_type": "execute_result"
    }
   ],
   "source": [
    "cost_epoch[-10:]"
   ]
  },
  {
   "cell_type": "code",
   "execution_count": 20,
   "id": "22dc0f05",
   "metadata": {},
   "outputs": [
    {
     "data": {
      "image/png": "[encoded data removed]",
      "text/plain": [
       "<Figure size 800x550 with 1 Axes>"
      ]
     },
     "metadata": {},
     "output_type": "display_data"
    }
   ],
   "source": [
    "plt.plot(cost_epoch)\n",
    "plt.show()"
   ]
  },
  {
   "cell_type": "code",
   "execution_count": 21,
   "id": "82105219",
   "metadata": {},
   "outputs": [
    {
     "name": "stdout",
     "output_type": "stream",
     "text": [
      "[[ 1.         -0.27259857  1.99029374  1.49802836]\n",
      " [ 1.         -0.27259857  0.97027072 -0.07331975]\n",
      " [ 1.         -0.27259857  0.4410972   1.92696014]\n",
      " [ 1.         -0.27259857  1.25971423  0.99900969]] (100, 5)\n"
     ]
    }
   ],
   "source": [
    "ones = np.ones((Xtest.shape[0], 1))\n",
    "Xtest = np.hstack((ones, Xtest))\n",
    "print(Xtest[:4, :4], Xtest.shape)\n",
    "     "
   ]
  },
  {
   "cell_type": "code",
   "execution_count": 22,
   "id": "aac939db",
   "metadata": {},
   "outputs": [],
   "source": [
    "y_pred_test = []\n",
    "\n",
    "for i in range(Xtest.shape[0]):\n",
    "  pred = hypothesis(Xtest[i], theta)\n",
    "  y_pred_test.append(pred)\n",
    "\n",
    "y_pred_test = np.array(y_pred_test)"
   ]
  },
  {
   "cell_type": "code",
   "execution_count": 23,
   "id": "66bb1d5c",
   "metadata": {},
   "outputs": [
    {
     "name": "stdout",
     "output_type": "stream",
     "text": [
      "2.36114497430834 11.9\n",
      "17.952727618615196 27.9\n",
      "11.452071502118534 17.2\n",
      "21.71209249878926 27.5\n",
      "15.896444199593411 15.0\n",
      "19.82446765655812 17.2\n",
      "0.1918821506196302 17.9\n",
      "9.514072346636272 16.3\n",
      "-4.509659091093953 7.0\n",
      "14.169625626358199 7.2\n",
      "18.684672153815775 7.5\n",
      "7.494534145306343 10.4\n",
      "9.701314194385992 8.8\n",
      "20.347976552141887 8.4\n",
      "21.637622065256444 16.7\n",
      "19.184940915738263 14.2\n",
      "17.223885580696198 20.8\n",
      "16.05510566615118 13.4\n",
      "15.530856204143916 11.7\n",
      "13.325273413169619 8.3\n",
      "17.60282652232953 10.2\n",
      "17.877427122355517 10.9\n",
      "17.45601544724983 11.0\n",
      "17.165238821830354 9.5\n",
      "20.21887282057823 14.5\n",
      "22.08220456284219 14.1\n",
      "23.667545213124427 16.1\n",
      "21.7630626679873 14.3\n",
      "20.008007864318333 11.7\n",
      "18.93479968132555 13.4\n",
      "20.12110269853072 9.6\n",
      "13.981397847869427 8.7\n",
      "9.054079450550413 8.4\n",
      "13.044080994441508 12.8\n",
      "13.330262652018694 10.5\n",
      "19.531487490414165 17.1\n",
      "20.216189415847087 18.4\n",
      "20.33015092715336 15.4\n",
      "13.668583497055332 10.8\n",
      "17.57274275031516 11.8\n",
      "20.32527177282133 14.9\n",
      "20.057312384127073 12.6\n",
      "18.874100950726444 14.1\n",
      "19.926856163692296 13.0\n",
      "23.003711424975798 13.4\n",
      "22.403282696935108 15.2\n",
      "20.42775121147419 16.1\n",
      "27.217437318212028 17.8\n",
      "21.963740031150234 14.9\n",
      "21.46403424347092 14.1\n",
      "17.608514119553316 12.7\n",
      "18.017859703405247 13.5\n",
      "20.69382939673731 14.9\n",
      "20.168038854726333 20.0\n",
      "23.399022838865353 16.4\n",
      "22.352109585342532 17.7\n",
      "22.007085199943283 19.5\n",
      "25.13665956953168 20.2\n",
      "21.59050388496839 21.4\n",
      "18.805517937457434 19.9\n",
      "18.46419675028354 19.0\n",
      "16.666104517481838 19.1\n",
      "16.62074855507201 19.1\n",
      "17.201165326446613 20.1\n",
      "20.172619314859787 19.9\n",
      "22.273816777056915 19.6\n",
      "22.888632640955823 23.2\n",
      "27.500788885528877 29.8\n",
      "14.261160158648506 13.8\n",
      "16.092217636789808 13.3\n",
      "20.925171318875833 16.7\n",
      "9.45462019374885 12.0\n",
      "18.8314521191471 14.6\n",
      "21.10979182792503 21.4\n",
      "23.22132104431668 23.0\n",
      "27.88360326323431 23.7\n",
      "30.184032268772015 25.0\n",
      "20.68415428568414 21.8\n",
      "19.97383049757417 20.6\n",
      "23.955978295270725 21.2\n",
      "20.34927667407383 19.1\n",
      "20.866311550628456 20.6\n",
      "15.272377854071042 15.2\n",
      "12.112168164945267 7.0\n",
      "7.294978684695912 8.1\n",
      "18.57821409952101 13.6\n",
      "20.899242467017782 20.1\n",
      "19.827082717905515 21.8\n",
      "20.407859971855125 24.5\n",
      "16.845744736082118 23.1\n",
      "13.343352478170317 19.7\n",
      "19.333166277001276 18.3\n",
      "21.322754156408408 21.2\n",
      "17.44428623072977 17.5\n",
      "20.680723104224146 16.8\n",
      "26.526655260985713 22.4\n",
      "23.862439230745903 20.6\n",
      "30.902747432717234 23.9\n",
      "29.347148406422164 22.0\n",
      "23.88997137640477 11.9\n"
     ]
    }
   ],
   "source": [
    "for i in range(len(y_pred_test)):\n",
    "  print(y_pred_test[i], Ytest[i])"
   ]
  },
  {
   "cell_type": "code",
   "execution_count": 24,
   "id": "0a7baff0",
   "metadata": {},
   "outputs": [
    {
     "name": "stdout",
     "output_type": "stream",
     "text": [
      "MAE: 4.565404587346546\n",
      "MSE: 32.00118331388537\n",
      "RMSE: 5.656958839684568\n"
     ]
    }
   ],
   "source": [
    "from sklearn import metrics\n",
    "\n",
    "print('MAE:', metrics.mean_absolute_error(Ytest, y_pred_test))\n",
    "print('MSE:', metrics.mean_squared_error(Ytest, y_pred_test))\n",
    "print('RMSE:', np.sqrt(metrics.mean_squared_error(Ytest, y_pred_test)))"
   ]
  },
  {
   "cell_type": "code",
   "execution_count": null,
   "id": "cf69d81d",
   "metadata": {},
   "outputs": [],
   "source": []
  }
 ],
 "metadata": {
  "kernelspec": {
   "display_name": "Python 3 (ipykernel)",
   "language": "python",
   "name": "python3"
  },
  "language_info": {
   "codemirror_mode": {
    "name": "ipython",
    "version": 3
   },
   "file_extension": ".py",
   "mimetype": "text/x-python",
   "name": "python",
   "nbconvert_exporter": "python",
   "pygments_lexer": "ipython3",
   "version": "3.8.10"
  }
 },
 "nbformat": 4,
 "nbformat_minor": 5
}
